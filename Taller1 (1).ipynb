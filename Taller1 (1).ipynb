{
 "cells": [
  {
   "cell_type": "markdown",
   "id": "e274886d-c209-4b39-a524-043a9d8932f7",
   "metadata": {},
   "source": [
    "# TALLER 1\n",
    "\n",
    "#### ELSY YULIANA SILGADO RIVERA"
   ]
  },
  {
   "cell_type": "code",
   "execution_count": null,
   "id": "dfa1e95d-6f95-462c-94ce-ef5a4973f5de",
   "metadata": {},
   "outputs": [],
   "source": [
    "grupo1 = [\"MAMI\", \"BEBE\", \"PRINCESS\", \"MAMI\"]\n",
    "grupo1.sort()\n",
    "\n",
    "grupo2 = [\"YO QUIERO\", \"YO PUEDO\", \"YO VENGO A\", \"VOY A\"]\n",
    "grupo2.sort(reverse=True)\n",
    "\n",
    "grupo3 = [\"ENCENDERTE\", \"AMARTE\", \"LIGAR\", \"JUGAR\"]\n",
    "grupo3.sort()\n",
    "\n",
    "grupo4 = [\"SUAVE\", \"LENTO\", \"RAPIDO\", \"FUERTE\"]\n",
    "grupo4.sort(reverse=True)\n",
    "\n",
    "grupo5 = [\"HASTA QUE SALGA EL SOL\", \"TODA LA NOCHE\", \"HASTA EL AMANECER\", \"TODO EL DIA\"]\n",
    "grupo5.sort()\n",
    "\n",
    "grupo6 = [\"SIN ANESTESIA\", \"SIN COMPROMISO\", \"FEIS TO FEIS\", \"SIN MIEDO\"]\n",
    "grupo6.sort(reverse=True)\n",
    "\n",
    "reguettonMelquiades = zip(grupo1, grupo2, grupo3, grupo4, grupo5, grupo6)\n",
    "\n",
    "formado = list(reguettonMelquiades)\n",
    "\n",
    "artista1 = input(\"Ingresa el artista\")\n",
    "artista2 = input(\"Ingresa el artista\")\n",
    "artista3 = input(\"Ingresa el artista\")\n",
    "artista4 = input(\"Ingresa el artista\")\n",
    "\n",
    "\n",
    "cancion1 = formado[0]\n",
    "cancion2 = formado[1]\n",
    "cancion3 = formado[2]\n",
    "cancion4 = formado[3]\n",
    "\n",
    "cancion1Update = list(cancion1)\n",
    "cancion2Update = list(cancion2)\n",
    "cancion3Update = list(cancion3)\n",
    "cancion4Update = list(cancion4)\n",
    "\n",
    "cancion1Update.insert(0, artista1)\n",
    "cancion2Update.insert(0, artista2)\n",
    "cancion3Update.insert(0, artista3)\n",
    "cancion4Update.insert(0, artista4)\n",
    "\n",
    "print(cancion1Update)\n",
    "print(cancion2Update)\n",
    "print(cancion3Update)\n",
    "print(cancion4Update)"
   ]
  },
  {
   "cell_type": "code",
   "execution_count": null,
   "id": "1b8789fe-10be-46d6-b6d7-be0aa9b08582",
   "metadata": {},
   "outputs": [],
   "source": []
  },
  {
   "cell_type": "code",
   "execution_count": null,
   "id": "c0dc20f9-a106-4947-a497-36ca2d85aa8c",
   "metadata": {},
   "outputs": [],
   "source": []
  }
 ],
 "metadata": {
  "kernelspec": {
   "display_name": "Python 3 (ipykernel)",
   "language": "python",
   "name": "python3"
  },
  "language_info": {
   "codemirror_mode": {
    "name": "ipython",
    "version": 3
   },
   "file_extension": ".py",
   "mimetype": "text/x-python",
   "name": "python",
   "nbconvert_exporter": "python",
   "pygments_lexer": "ipython3",
   "version": "3.9.12"
  }
 },
 "nbformat": 4,
 "nbformat_minor": 5
}
